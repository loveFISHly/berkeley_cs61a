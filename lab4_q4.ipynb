"""

https://cs61a.org/lab/lab04/

Q4: Insect Combinatorics
Consider an insect in an M by N grid. The insect starts at the bottom left corner, (0, 0), and wants to end up at the top right corner, (M-1, N-1). The insect is only capable of moving right or up. Write a function paths that takes a grid length and width and returns the number of different paths the insect can take from the start to the goal. (There is a closed-form solution to this problem, but try to answer it procedurally using recursion.)

For example, the 2 by 2 grid has a total of two ways for the insect to move from the start to the goal. For the 3 by 3 grid, the insect has 6 diferent paths (only 3 are shown above).

"""

def paths(m, n):
    if m == 1 or n == 1:
        return 1
    else:
        move_right = paths(m-1, n)
        move_top = paths(m, n-1)
        return move_right + move_top
